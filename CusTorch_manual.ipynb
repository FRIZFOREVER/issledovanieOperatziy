{
 "cells": [
  {
   "cell_type": "markdown",
   "metadata": {},
   "source": [
    "# Работа с CustomTorch\n",
    "\n",
    "Этот ноутбук представляет собой мануал по работе с библиотекой CusTorch\n",
    "\n",
    "Данная библиотека является легковестным гибридом Keras и PyTorch и реализует базовые методы построения собственных нейронных сетей"
   ]
  },
  {
   "cell_type": "markdown",
   "metadata": {},
   "source": [
    "## Начало работы"
   ]
  },
  {
   "cell_type": "markdown",
   "metadata": {},
   "source": [
    "## Ознакомление с базовым функционалом"
   ]
  },
  {
   "cell_type": "markdown",
   "metadata": {},
   "source": [
    "### Импорт\n",
    "Для начала работы импортируем все классы и методы из библиотеки"
   ]
  },
  {
   "cell_type": "code",
   "execution_count": 73,
   "metadata": {},
   "outputs": [],
   "source": [
    "from CustomTorch import *\n"
   ]
  },
  {
   "cell_type": "markdown",
   "metadata": {},
   "source": [
    "Также импортируем крайне важную библиоетку для работы с векторами"
   ]
  },
  {
   "cell_type": "code",
   "execution_count": 74,
   "metadata": {},
   "outputs": [],
   "source": [
    "import numpy as np"
   ]
  },
  {
   "cell_type": "markdown",
   "metadata": {},
   "source": [
    "### класс Tensor"
   ]
  },
  {
   "cell_type": "markdown",
   "metadata": {},
   "source": [
    "Данный класс является обёрткой для повторяющихся математическх операций над векорами, а также хранит промежуточные значения, такие как градиент"
   ]
  },
  {
   "cell_type": "code",
   "execution_count": 75,
   "metadata": {},
   "outputs": [],
   "source": [
    "# Класс Tensor инициализируется через numpy.array\n",
    "example_tensor_1 = Tensor(np.array([[1, 2], [3, 4]]))\n",
    "example_tensor_2 = Tensor(np.array([[4, 3], [2, 1]]))"
   ]
  },
  {
   "cell_type": "markdown",
   "metadata": {},
   "source": [
    "Мы можем производить различные операции над векторами"
   ]
  },
  {
   "cell_type": "code",
   "execution_count": 76,
   "metadata": {},
   "outputs": [
    {
     "data": {
      "text/plain": [
       "array([[ 8,  5],\n",
       "       [20, 13]])"
      ]
     },
     "metadata": {},
     "output_type": "display_data"
    },
    {
     "data": {
      "text/plain": [
       "array([[5, 5],\n",
       "       [5, 5]])"
      ]
     },
     "metadata": {},
     "output_type": "display_data"
    }
   ],
   "source": [
    "# Матричное умножение\n",
    "new_tensor = example_tensor_1.__matmul__(example_tensor_2)\n",
    "display(new_tensor.data)\n",
    "\n",
    "# Сложение\n",
    "new_tensor = example_tensor_1.__add__(example_tensor_2)\n",
    "display(new_tensor.data)"
   ]
  },
  {
   "cell_type": "markdown",
   "metadata": {},
   "source": [
    "## Класс Linear"
   ]
  },
  {
   "cell_type": "markdown",
   "metadata": {},
   "source": [
    "Представляет собой реализацию линейного слоя нейронной сети"
   ]
  },
  {
   "cell_type": "code",
   "execution_count": 77,
   "metadata": {},
   "outputs": [],
   "source": [
    "# Инициализация класса c параметрами: (размерность входящего тензора, размерность выхода)\n",
    "Linear_Example = Linear(4, 2)"
   ]
  },
  {
   "cell_type": "markdown",
   "metadata": {},
   "source": [
    "Методы работы с линейным слоем"
   ]
  },
  {
   "cell_type": "code",
   "execution_count": 78,
   "metadata": {},
   "outputs": [
    {
     "data": {
      "text/plain": [
       "array([-0.00512157,  0.03539639])"
      ]
     },
     "execution_count": 78,
     "metadata": {},
     "output_type": "execute_result"
    }
   ],
   "source": [
    "# Прохождение слоя\n",
    "result = Linear_Example.forward(Tensor([1, 2, 3, 4]))\n",
    "result.data"
   ]
  },
  {
   "cell_type": "code",
   "execution_count": null,
   "metadata": {},
   "outputs": [],
   "source": [
    "# Обратное распространение ошибки\n",
    "\n",
    "# Создаём желаемый ответ\n",
    "true_result = Tensor([5.1, 2.3])\n",
    "\n",
    "# Создаём класс функции потерь и считаем Loss\n",
    "loss_func = MSELoss()\n",
    "grad = loss_func.forward(result, true_result)\n"
   ]
  },
  {
   "cell_type": "code",
   "execution_count": 80,
   "metadata": {},
   "outputs": [
    {
     "ename": "ValueError",
     "evalue": "matmul: Input operand 1 has a mismatch in its core dimension 0, with gufunc signature (n?,k),(k,m?)->(n?,m?) (size 2 is different from 4)",
     "output_type": "error",
     "traceback": [
      "\u001b[31m---------------------------------------------------------------------------\u001b[39m",
      "\u001b[31mValueError\u001b[39m                                Traceback (most recent call last)",
      "\u001b[36mCell\u001b[39m\u001b[36m \u001b[39m\u001b[32mIn[80]\u001b[39m\u001b[32m, line 2\u001b[39m\n\u001b[32m      1\u001b[39m \u001b[38;5;66;03m# Производим обратное распространение \u001b[39;00m\n\u001b[32m----> \u001b[39m\u001b[32m2\u001b[39m backward_result = \u001b[43mLinear_Example\u001b[49m\u001b[43m.\u001b[49m\u001b[43mbackward\u001b[49m\u001b[43m(\u001b[49m\u001b[43mgrad\u001b[49m\u001b[43m)\u001b[49m\n\u001b[32m      3\u001b[39m backward_result.data\n",
      "\u001b[36mFile \u001b[39m\u001b[32m~/Documents/NeuralNetworks/issledovanieOperatziy/CustomTorch.py:50\u001b[39m, in \u001b[36mbackward\u001b[39m\u001b[34m(self, grad_output)\u001b[39m\n\u001b[32m     47\u001b[39m     \u001b[38;5;28mself\u001b[39m.weight = Tensor(np.random.randn(in_features, out_features) * \u001b[32m0.01\u001b[39m)\n\u001b[32m     48\u001b[39m     \u001b[38;5;28mself\u001b[39m.bias = Tensor(np.zeros(out_features))\n\u001b[32m---> \u001b[39m\u001b[32m50\u001b[39m \u001b[38;5;28;01mdef\u001b[39;00m\u001b[38;5;250m \u001b[39m\u001b[34mforward\u001b[39m(\u001b[38;5;28mself\u001b[39m, x: Tensor) -> Tensor:\n\u001b[32m     51\u001b[39m     \u001b[38;5;28mself\u001b[39m.input = x\n\u001b[32m     52\u001b[39m     \u001b[38;5;28;01mreturn\u001b[39;00m Tensor(x.data @ \u001b[38;5;28mself\u001b[39m.weight.data + \u001b[38;5;28mself\u001b[39m.bias.data)\n",
      "\u001b[31mValueError\u001b[39m: matmul: Input operand 1 has a mismatch in its core dimension 0, with gufunc signature (n?,k),(k,m?)->(n?,m?) (size 2 is different from 4)"
     ]
    }
   ],
   "source": [
    "# Производим обратное распространение \n",
    "backward_result = Linear_Example.backward(grad)\n",
    "backward_result.data"
   ]
  },
  {
   "cell_type": "code",
   "execution_count": null,
   "metadata": {},
   "outputs": [],
   "source": []
  },
  {
   "cell_type": "code",
   "execution_count": null,
   "metadata": {},
   "outputs": [],
   "source": []
  }
 ],
 "metadata": {
  "kernelspec": {
   "display_name": "Python 3",
   "language": "python",
   "name": "python3"
  },
  "language_info": {
   "codemirror_mode": {
    "name": "ipython",
    "version": 3
   },
   "file_extension": ".py",
   "mimetype": "text/x-python",
   "name": "python",
   "nbconvert_exporter": "python",
   "pygments_lexer": "ipython3",
   "version": "3.11.4"
  }
 },
 "nbformat": 4,
 "nbformat_minor": 2
}
