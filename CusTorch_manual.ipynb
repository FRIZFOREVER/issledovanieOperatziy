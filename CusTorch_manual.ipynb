{
 "cells": [
  {
   "cell_type": "markdown",
   "metadata": {},
   "source": [
    "# Работа с CustomTorch\n",
    "\n",
    "Этот ноутбук представляет собой мануал по работе с библиотекой CusTorch\n",
    "\n",
    "Данная библиотека является легковестным гибридом Keras и PyTorch и реализует базовые методы построения собственных нейронных сетей"
   ]
  },
  {
   "cell_type": "markdown",
   "metadata": {},
   "source": [
    "## Начало работы"
   ]
  },
  {
   "cell_type": "markdown",
   "metadata": {},
   "source": [
    "## Ознакомление с базовым функционалом"
   ]
  },
  {
   "cell_type": "markdown",
   "metadata": {},
   "source": [
    "### Импорт\n",
    "Для начала работы импортируем все классы и методы из библиотеки"
   ]
  },
  {
   "cell_type": "code",
   "execution_count": 2,
   "metadata": {},
   "outputs": [],
   "source": [
    "from CustomTorch import *"
   ]
  },
  {
   "cell_type": "markdown",
   "metadata": {},
   "source": [
    "Также импортируем уже знакомую библиоетку для работы с линейной алгеброй"
   ]
  },
  {
   "cell_type": "code",
   "execution_count": 3,
   "metadata": {},
   "outputs": [],
   "source": [
    "import numpy as np"
   ]
  },
  {
   "cell_type": "markdown",
   "metadata": {},
   "source": [
    "### класс Tensor"
   ]
  },
  {
   "cell_type": "markdown",
   "metadata": {},
   "source": [
    "Данный класс является обёрткой для повторяющихся математическх операций над векорами, а также хранит промежуточные значения, такие как градиент"
   ]
  },
  {
   "cell_type": "code",
   "execution_count": 8,
   "metadata": {},
   "outputs": [],
   "source": [
    "# Класс Tensor инициализируется через numpy.array\n",
    "example_tensor_1 = Tensor(np.array([[1, 2], [3, 4]]))\n",
    "example_tensor_2 = Tensor(np.array([[4, 3], [2, 1]]))"
   ]
  },
  {
   "cell_type": "markdown",
   "metadata": {},
   "source": [
    "Мы можем производить различные операции над векторами"
   ]
  },
  {
   "cell_type": "code",
   "execution_count": 12,
   "metadata": {},
   "outputs": [
    {
     "data": {
      "text/plain": [
       "array([[ 8,  5],\n",
       "       [20, 13]])"
      ]
     },
     "metadata": {},
     "output_type": "display_data"
    },
    {
     "data": {
      "text/plain": [
       "array([[5, 5],\n",
       "       [5, 5]])"
      ]
     },
     "metadata": {},
     "output_type": "display_data"
    }
   ],
   "source": [
    "# Матричное умножение\n",
    "new_tensor = example_tensor_1.__matmul__(example_tensor_2)\n",
    "display(new_tensor.data)\n",
    "\n",
    "# Сложение\n",
    "new_tensor = example_tensor_1.__add__(example_tensor_2)\n",
    "display(new_tensor.data)"
   ]
  },
  {
   "cell_type": "markdown",
   "metadata": {},
   "source": [
    "## Класс NN"
   ]
  },
  {
   "cell_type": "markdown",
   "metadata": {},
   "source": [
    "Расшифровывается как - Neural Network, то есть - нейронная сеть\n",
    "\n",
    "Данный класс реализует обработку прохода данных по нейронной сети"
   ]
  },
  {
   "cell_type": "code",
   "execution_count": 28,
   "metadata": {},
   "outputs": [],
   "source": [
    "model = NN()"
   ]
  },
  {
   "cell_type": "markdown",
   "metadata": {},
   "source": [
    "В этот класс можно добавлять слои. \n",
    "\n",
    "Например, класс Linear реализует стандартный feed-forward слой с задаваемыми размерами входа и выхода\n",
    "\n",
    "Также в библиотеке реализован класс Dropout. Подробнее о нём можете прочитать в документации и поэксперементировать сами"
   ]
  },
  {
   "cell_type": "code",
   "execution_count": 29,
   "metadata": {},
   "outputs": [],
   "source": [
    "model.add(Linear(2, 16))\n",
    "model.add(Linear(16, 16))\n",
    "model.add(Linear(16, 2))"
   ]
  },
  {
   "cell_type": "markdown",
   "metadata": {},
   "source": [
    "Пример получения выхода из нейронной сети"
   ]
  },
  {
   "cell_type": "code",
   "execution_count": 35,
   "metadata": {},
   "outputs": [
    {
     "data": {
      "text/plain": [
       "array([[0.66874939, 0.44595044],\n",
       "       [0.66900018, 0.44612331]])"
      ]
     },
     "execution_count": 35,
     "metadata": {},
     "output_type": "execute_result"
    }
   ],
   "source": [
    "model.eval()\n",
    "val_pred = model.forward(example_tensor_1)\n",
    "val_pred.data"
   ]
  },
  {
   "cell_type": "markdown",
   "metadata": {},
   "source": [
    "Также данный класс реализует кастомизируемые функцию потерь и оптимизатор для тренировки нейронной сети"
   ]
  },
  {
   "cell_type": "code",
   "execution_count": 32,
   "metadata": {},
   "outputs": [],
   "source": [
    "loss_fn = MSELoss()\n",
    "opt = SGD(model.parameters(), lr=1e-2)"
   ]
  },
  {
   "cell_type": "markdown",
   "metadata": {},
   "source": [
    "И, разумеется, саму тренировку нейронной сети"
   ]
  },
  {
   "cell_type": "code",
   "execution_count": 34,
   "metadata": {},
   "outputs": [
    {
     "name": "stdout",
     "output_type": "stream",
     "text": [
      "Loss:, 5.342\n",
      "Loss:, 5.255\n",
      "Loss:, 5.17\n",
      "Loss:, 5.087\n",
      "Loss:, 5.005\n"
     ]
    }
   ],
   "source": [
    "model.train()\n",
    "for epoch in range(5):\n",
    "    y_pred = model.forward(example_tensor_1)\n",
    "    loss = loss_fn.forward(y_pred, example_tensor_2)\n",
    "    print(f\"Loss:, {loss.data.item(0):.4}\")\n",
    "    \n",
    "    # Обратное распространение\n",
    "    grad_loss = loss_fn.backward(y_pred, example_tensor_2)\n",
    "    model.backward(grad_loss)\n",
    "    \n",
    "    # Обновляем\n",
    "    opt.step() "
   ]
  },
  {
   "cell_type": "markdown",
   "metadata": {},
   "source": [
    "## Собственные слои"
   ]
  },
  {
   "cell_type": "markdown",
   "metadata": {},
   "source": [
    "Для создания собственного слоя наследуемся от базового класса Module\n",
    "\n",
    "В качестве примера приведу написание линейного слоя с комментариями"
   ]
  },
  {
   "cell_type": "code",
   "execution_count": null,
   "metadata": {},
   "outputs": [],
   "source": [
    "# Наследуемся от класса Module\n",
    "class Linear(Module):\n",
    "    # Т.к. слой линейный, то нам требуется размерность входа и выхода\n",
    "    # Их мы запрашиваем в качестве аргументов при создании слоия\n",
    "    def __init__(self, in_features: int, out_features: int):\n",
    "        \n",
    "        # Вызываем базовый конструктор \n",
    "        super().__init__()\n",
    "        # Реализуем логику слоя. В данном случае это веса и bias\n",
    "        self.weight = Tensor(np.random.randn(in_features, out_features) * 0.01)\n",
    "        self.bias = Tensor(np.zeros(out_features))\n",
    "\n",
    "    # Метод, который будет вызываться нейронной сетью при проходе\n",
    "    def forward(self, x: Tensor) -> Tensor:\n",
    "        self.input = x\n",
    "        return Tensor(x.data @ self.weight.data + self.bias.data)\n",
    "\n",
    "    # Обратное распространение ошибки\n",
    "    # Возвращает изменённый градиент согласно Chain Rules (c)\n",
    "    def backward(self, grad_output: Tensor):\n",
    "        self.weight.grad = self.input.data.T @ grad_output.data\n",
    "        self.bias.grad = np.sum(grad_output.data, axis=0)\n",
    "        grad_input = grad_output.data @ self.weight.data.T\n",
    "        return Tensor(grad_input)\n",
    "\n",
    "    # Функция, возвращающая веса слоя оптимайзеру (необязательная)\n",
    "    def parameters(self):\n",
    "        return [self.weight, self.bias]"
   ]
  }
 ],
 "metadata": {
  "kernelspec": {
   "display_name": "Python 3",
   "language": "python",
   "name": "python3"
  },
  "language_info": {
   "codemirror_mode": {
    "name": "ipython",
    "version": 3
   },
   "file_extension": ".py",
   "mimetype": "text/x-python",
   "name": "python",
   "nbconvert_exporter": "python",
   "pygments_lexer": "ipython3",
   "version": "3.11.4"
  }
 },
 "nbformat": 4,
 "nbformat_minor": 2
}
