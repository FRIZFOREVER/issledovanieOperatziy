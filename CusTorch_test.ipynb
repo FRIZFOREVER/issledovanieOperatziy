{
 "cells": [
  {
   "cell_type": "code",
   "execution_count": null,
   "metadata": {},
   "outputs": [],
   "source": [
    "from CustomTorch import *"
   ]
  },
  {
   "cell_type": "code",
   "execution_count": null,
   "metadata": {},
   "outputs": [],
   "source": [
    "# Create a neural network with dropout\n",
    "model = NN()\n",
    "model.add(Linear(2, 3))\n",
    "model.add(Dropout(p=0.3))\n",
    "model.add(Linear(3, 1))"
   ]
  },
  {
   "cell_type": "code",
   "execution_count": null,
   "metadata": {},
   "outputs": [],
   "source": [
    "# Define loss and optimizer\n",
    "criterion = MSELoss()\n",
    "optimizer = SGD(model.parameters(), lr=0.01)"
   ]
  },
  {
   "cell_type": "code",
   "execution_count": null,
   "metadata": {},
   "outputs": [],
   "source": [
    "# Sample data\n",
    "x = Tensor(np.array([[1, 2], [3, 4]]))\n",
    "y_true = Tensor(np.array([[1], [0]]))"
   ]
  },
  {
   "cell_type": "code",
   "execution_count": 5,
   "metadata": {},
   "outputs": [
    {
     "name": "stdout",
     "output_type": "stream",
     "text": [
      "Epoch 0, Loss: 0.4996359394300494\n",
      "Epoch 10, Loss: 0.4168988420444135\n",
      "Epoch 20, Loss: 0.36112682922571704\n",
      "Epoch 30, Loss: 0.3238981493222846\n",
      "Epoch 40, Loss: 0.2990675062974375\n",
      "Epoch 50, Loss: 0.28342226443580043\n",
      "Epoch 60, Loss: 0.2724328255119086\n",
      "Epoch 70, Loss: 0.26585029897835843\n",
      "Epoch 80, Loss: 0.2597672307187341\n",
      "Epoch 90, Loss: 0.2571519985481313\n",
      "Final predictions:\n",
      " [[0.43320333]\n",
      " [0.43373224]]\n"
     ]
    }
   ],
   "source": [
    "# Set model to training mode\n",
    "model.train()\n",
    "\n",
    "# Training loop\n",
    "for epoch in range(100):\n",
    "    y_pred = model.forward(x)\n",
    "    loss = criterion.forward(y_pred, y_true)\n",
    "    grad_output = criterion.backward(y_pred, y_true)\n",
    "    model.backward(grad_output)\n",
    "    optimizer.step()\n",
    "    if epoch % 10 == 0:\n",
    "        print(f\"Epoch {epoch}, Loss: {loss.data}\")\n",
    "\n",
    "# Switch to evaluation mode for inference\n",
    "model.eval()\n",
    "y_pred = model.forward(x)\n",
    "print(\"Final predictions:\\n\", y_pred.data)"
   ]
  }
 ],
 "metadata": {
  "kernelspec": {
   "display_name": "Python 3",
   "language": "python",
   "name": "python3"
  },
  "language_info": {
   "codemirror_mode": {
    "name": "ipython",
    "version": 3
   },
   "file_extension": ".py",
   "mimetype": "text/x-python",
   "name": "python",
   "nbconvert_exporter": "python",
   "pygments_lexer": "ipython3",
   "version": "3.11.4"
  }
 },
 "nbformat": 4,
 "nbformat_minor": 2
}
