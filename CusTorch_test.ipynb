{
 "cells": [
  {
   "cell_type": "code",
   "execution_count": 8,
   "metadata": {},
   "outputs": [],
   "source": [
    "from CustomTorch import *"
   ]
  },
  {
   "cell_type": "code",
   "execution_count": 2,
   "metadata": {},
   "outputs": [],
   "source": [
    "# Create a neural network with dropout\n",
    "model = NN()\n",
    "model.add(Linear(2, 4))\n",
    "# model.add(Dropout(p=0.3))\n",
    "model.add(Linear(4, 1))"
   ]
  },
  {
   "cell_type": "code",
   "execution_count": 3,
   "metadata": {},
   "outputs": [],
   "source": [
    "# Define loss and optimizer\n",
    "criterion = MSELoss()\n",
    "optimizer = SGD(model.parameters(), lr=0.01)"
   ]
  },
  {
   "cell_type": "code",
   "execution_count": 4,
   "metadata": {},
   "outputs": [],
   "source": [
    "# Sample data\n",
    "x = Tensor(np.array([[1, 2], [3, 4]]))\n",
    "y_true = Tensor(np.array([[1], [0]]))"
   ]
  },
  {
   "cell_type": "code",
   "execution_count": 6,
   "metadata": {},
   "outputs": [
    {
     "name": "stdout",
     "output_type": "stream",
     "text": [
      "Epoch 0, Loss: 0.254859392180115\n",
      "Epoch 10, Loss: 0.2532840853304503\n",
      "Epoch 20, Loss: 0.2521778589170865\n",
      "Epoch 30, Loss: 0.25138322565946714\n",
      "Epoch 40, Loss: 0.2507918715317656\n",
      "Epoch 50, Loss: 0.2503273438011352\n",
      "Epoch 60, Loss: 0.24993349689709318\n",
      "Epoch 70, Loss: 0.2495665962505762\n",
      "Epoch 80, Loss: 0.24918972663775127\n",
      "Epoch 90, Loss: 0.24876863485230294\n",
      "Epoch 100, Loss: 0.24826845467111278\n",
      "Epoch 110, Loss: 0.24765098514874112\n",
      "Epoch 120, Loss: 0.24687237216209695\n",
      "Epoch 130, Loss: 0.24588121591805212\n",
      "Epoch 140, Loss: 0.24461732060327743\n",
      "Epoch 150, Loss: 0.24301152538011084\n",
      "Epoch 160, Loss: 0.24098728143942078\n",
      "Epoch 170, Loss: 0.2384647753748421\n",
      "Epoch 180, Loss: 0.23536826094272661\n",
      "Epoch 190, Loss: 0.23163659751272808\n",
      "Final predictions:\n",
      " [[0.49085054]\n",
      " [0.44185756]]\n"
     ]
    }
   ],
   "source": [
    "model.train()\n",
    "\n",
    "for epoch in range(200):\n",
    "    y_pred = model.forward(x)\n",
    "    loss = criterion.forward(y_pred, y_true)\n",
    "    grad_output = criterion.backward(y_pred, y_true)\n",
    "    model.backward(grad_output)\n",
    "    optimizer.step()\n",
    "    if epoch % 10 == 0:\n",
    "        print(f\"Epoch {epoch}, Loss: {loss.data}\")\n",
    "\n",
    "model.eval()\n",
    "y_pred = model.forward(x)\n",
    "print(\"Final predictions:\\n\", y_pred.data)"
   ]
  },
  {
   "cell_type": "code",
   "execution_count": null,
   "metadata": {},
   "outputs": [],
   "source": []
  }
 ],
 "metadata": {
  "kernelspec": {
   "display_name": "Python 3",
   "language": "python",
   "name": "python3"
  },
  "language_info": {
   "codemirror_mode": {
    "name": "ipython",
    "version": 3
   },
   "file_extension": ".py",
   "mimetype": "text/x-python",
   "name": "python",
   "nbconvert_exporter": "python",
   "pygments_lexer": "ipython3",
   "version": "3.11.4"
  }
 },
 "nbformat": 4,
 "nbformat_minor": 2
}
